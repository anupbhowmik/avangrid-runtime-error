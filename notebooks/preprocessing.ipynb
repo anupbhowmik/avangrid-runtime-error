{
 "cells": [
  {
   "cell_type": "markdown",
   "id": "72fb9e5a",
   "metadata": {},
   "source": [
    "## Dataset preprocessing\n",
    "This section outlines the steps taken to preprocess the dataset before using any model. Proper preprocessing is crucial for ensuring that the data is clean, consistent, and suitable for analysis.\n",
    "The dataset seems pretty clean, but we performed the following preprocessing steps to ensure data quality:\n"
   ]
  },
  {
   "cell_type": "code",
   "execution_count": 7,
   "id": "d7f3b17e",
   "metadata": {},
   "outputs": [],
   "source": [
    "import pandas as pd\n",
    "import os"
   ]
  },
  {
   "cell_type": "markdown",
   "id": "596dfe41",
   "metadata": {},
   "source": [
    "Replace \"-\" with 0 in the 'Gen' column to handle missing generation values."
   ]
  },
  {
   "cell_type": "code",
   "execution_count": 9,
   "id": "8cfd3a6f",
   "metadata": {},
   "outputs": [],
   "source": [
    "def fix_gen_column(csv_path):\n",
    "    df = pd.read_csv(csv_path, dtype=str)\n",
    "    df.columns = df.columns.str.strip()\n",
    "\n",
    "    if \"Gen\" not in df.columns:\n",
    "        print(f\"'Gen' column not found in {csv_path}. Skipping.\")\n",
    "        return\n",
    "\n",
    "    # Replace cells that are exactly \"-\" (allow surrounding spaces) with \"0\"\n",
    "    df[\"Gen\"] = df[\"Gen\"].replace(r\"^\\s*-\\s*$\", \"0\", regex=True)\n",
    "\n",
    "    # Trim whitespace and convert to numeric, non-numeric -> NaN -> fill with 0\n",
    "    df[\"Gen\"] = pd.to_numeric(df[\"Gen\"].str.strip(), errors=\"coerce\").fillna(0)\n",
    "\n",
    "    df.to_csv(csv_path, index=False)\n",
    "    print(\"Fixed Gen column and saved:\", csv_path)"
   ]
  },
  {
   "cell_type": "markdown",
   "id": "9e6431d2",
   "metadata": {},
   "source": [
    "**Data Type Conversion**: Convert the relevant columns to numeric types to facilitate mathematical operations and analysis. Remove $ signs and commas before conversion."
   ]
  },
  {
   "cell_type": "code",
   "execution_count": 11,
   "id": "463d480c",
   "metadata": {},
   "outputs": [],
   "source": [
    "def convert_dollar(csv_path):\n",
    "    data_hist = pd.read_csv(csv_path)\n",
    "\n",
    "    if 'RT Busbar' not in data_hist.columns or 'RT Hub' not in data_hist.columns or \\\n",
    "       'DA Busbar' not in data_hist.columns or 'DA Hub' not in data_hist.columns or \\\n",
    "       'P/OP' not in data_hist.columns:\n",
    "        print(f\"One or more required columns not found in {csv_path}. Skipping.\")\n",
    "        return\n",
    "\n",
    "    data_hist['RT Busbar'] = data_hist['RT Busbar'].astype(str).str.replace(r'[\\(,]', '-', regex=True)\n",
    "    data_hist['RT Busbar'] = data_hist['RT Busbar'].astype(str).str.replace(r'[\\),]', '', regex=True)\n",
    "    \n",
    "    data_hist['RT Busbar'] = data_hist['RT Busbar'].astype(str).str.replace(r'[\\$,]', '', regex=True)\n",
    "    data_hist['RT Busbar'] = pd.to_numeric(data_hist['RT Busbar'], errors='coerce')\n",
    "    \n",
    "    data_hist['RT Hub'] = data_hist['RT Hub'].astype(str).str.replace(r'[\\$,]', '', regex=True)\n",
    "    data_hist['RT Hub'] = pd.to_numeric(data_hist['RT Hub'], errors='coerce')\n",
    "    \n",
    "    \n",
    "    data_hist['DA Busbar'] = data_hist['DA Busbar'].astype(str).str.replace(r'[\\(,]', '-', regex=True)\n",
    "    data_hist['DA Busbar'] = data_hist['DA Busbar'].astype(str).str.replace(r'[\\),]', '', regex=True)\n",
    "    \n",
    "    data_hist['DA Busbar'] = data_hist['DA Busbar'].astype(str).str.replace(r'[\\$,]', '', regex=True)\n",
    "    data_hist['DA Busbar'] = pd.to_numeric(data_hist['DA Busbar'], errors='coerce')\n",
    "    \n",
    "    data_hist['DA Hub'] = data_hist['DA Hub'].astype(str).str.replace(r'[\\$,]', '', regex=True)\n",
    "    data_hist['DA Hub'] = pd.to_numeric(data_hist['DA Hub'], errors='coerce')\n",
    "    \n",
    "    data_hist['P/OP'] = data_hist['P/OP'].astype(str).str.replace('OP' , '0', regex=True)\n",
    "    data_hist['P/OP'] = data_hist['P/OP'].astype(str).str.replace('P', '1', regex=True)\n",
    "    data_hist['P/OP'] = pd.to_numeric(data_hist['P/OP'], errors='coerce')\n",
    "\n",
    "    data_hist.to_csv(csv_path, index=False)\n",
    "    print(\"Converted dollar columns and saved:\", csv_path)\n"
   ]
  },
  {
   "cell_type": "markdown",
   "id": "60853635",
   "metadata": {},
   "source": [
    "**Handling Missing Values**: Check for any missing values in the dataset. If any found, just drop those rows to maintain data integrity."
   ]
  },
  {
   "cell_type": "code",
   "execution_count": 6,
   "id": "a5538f39",
   "metadata": {},
   "outputs": [],
   "source": [
    "def drop_missing_values(csv_path):  \n",
    "    df = pd.read_csv(csv_path)  \n",
    "    df.dropna(inplace=True)\n",
    "    df.to_csv(csv_path, index=False)\n",
    "    print(\"Dropped rows with missing values and saved:\", csv_path)"
   ]
  },
  {
   "cell_type": "markdown",
   "id": "8f205f50",
   "metadata": {},
   "source": [
    "Preprocess all the CSV files in the data directory to ensure consistency across datasets."
   ]
  },
  {
   "cell_type": "code",
   "execution_count": null,
   "id": "a2b2ca19",
   "metadata": {},
   "outputs": [],
   "source": [
    "data_dir = \"../data\"\n",
    "# traverse all csv files in data directory and apply fixes\n",
    "for filename in os.listdir(data_dir):\n",
    "    if filename.endswith(\".csv\"):\n",
    "        csv_path = os.path.join(data_dir, filename)\n",
    "        fix_gen_column(csv_path)\n",
    "        drop_missing_values(csv_path)\n",
    "        convert_dollar(csv_path)"
   ]
  },
  {
   "cell_type": "markdown",
   "id": "faa11ffa",
   "metadata": {},
   "source": []
  }
 ],
 "metadata": {
  "kernelspec": {
   "display_name": "hackathon",
   "language": "python",
   "name": "python3"
  },
  "language_info": {
   "codemirror_mode": {
    "name": "ipython",
    "version": 3
   },
   "file_extension": ".py",
   "mimetype": "text/x-python",
   "name": "python",
   "nbconvert_exporter": "python",
   "pygments_lexer": "ipython3",
   "version": "3.12.12"
  }
 },
 "nbformat": 4,
 "nbformat_minor": 5
}
