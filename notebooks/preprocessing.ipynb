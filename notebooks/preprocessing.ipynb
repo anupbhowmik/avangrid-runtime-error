{
 "cells": [
  {
   "cell_type": "markdown",
   "id": "72fb9e5a",
   "metadata": {},
   "source": [
    "## Dataset preprocessing\n",
    "This section outlines the steps taken to preprocess the dataset before using any model. Proper preprocessing is crucial for ensuring that the data is clean, consistent, and suitable for analysis.\n",
    "The dataset seems pretty clean, but we performed the following preprocessing steps to ensure data quality:\n"
   ]
  },
  {
   "cell_type": "code",
   "execution_count": 7,
   "id": "d7f3b17e",
   "metadata": {},
   "outputs": [],
   "source": [
    "import pandas as pd\n",
    "import os"
   ]
  },
  {
   "cell_type": "markdown",
   "id": "596dfe41",
   "metadata": {},
   "source": [
    "1. Replace \"-\" with 0 in the 'Gen' column to handle missing generation values."
   ]
  },
  {
   "cell_type": "code",
   "execution_count": 9,
   "id": "8cfd3a6f",
   "metadata": {},
   "outputs": [],
   "source": [
    "def fix_gen_column(csv_path):\n",
    "    df = pd.read_csv(csv_path, dtype=str)\n",
    "    df.columns = df.columns.str.strip()\n",
    "\n",
    "    if \"Gen\" not in df.columns:\n",
    "        print(f\"'Gen' column not found in {csv_path}. Skipping.\")\n",
    "        return\n",
    "\n",
    "    # Replace cells that are exactly \"-\" (allow surrounding spaces) with \"0\"\n",
    "    df[\"Gen\"] = df[\"Gen\"].replace(r\"^\\s*-\\s*$\", \"0\", regex=True)\n",
    "\n",
    "    # Trim whitespace and convert to numeric, non-numeric -> NaN -> fill with 0\n",
    "    df[\"Gen\"] = pd.to_numeric(df[\"Gen\"].str.strip(), errors=\"coerce\").fillna(0)\n",
    "\n",
    "    df.to_csv(csv_path, index=False)\n",
    "    print(\"Fixed Gen column and saved:\", csv_path)"
   ]
  },
  {
   "cell_type": "markdown",
   "id": "9e6431d2",
   "metadata": {},
   "source": [
    "2. **Data Type Conversion**: Convert the relevant columns to numeric types to facilitate mathematical operations and analysis. Remove $ signs and commas before conversion."
   ]
  },
  {
   "cell_type": "code",
   "execution_count": null,
   "id": "463d480c",
   "metadata": {},
   "outputs": [],
   "source": []
  },
  {
   "cell_type": "markdown",
   "id": "60853635",
   "metadata": {},
   "source": [
    "3. **Handling Missing Values**: Check for any missing values in the dataset. If any found, just drop those rows to maintain data integrity."
   ]
  },
  {
   "cell_type": "code",
   "execution_count": 6,
   "id": "a5538f39",
   "metadata": {},
   "outputs": [],
   "source": [
    "def drop_missing_values(csv_path):  \n",
    "    df = pd.read_csv(csv_path)  \n",
    "    df.dropna(inplace=True)\n",
    "    df.to_csv(csv_path, index=False)\n",
    "    print(\"Dropped rows with missing values and saved:\", csv_path)"
   ]
  },
  {
   "cell_type": "markdown",
   "id": "8f205f50",
   "metadata": {},
   "source": [
    "Preprocess all the CSV files in the data directory to ensure consistency across datasets."
   ]
  },
  {
   "cell_type": "code",
   "execution_count": 10,
   "id": "a2b2ca19",
   "metadata": {},
   "outputs": [
    {
     "name": "stdout",
     "output_type": "stream",
     "text": [
      "'Gen' column not found in ../data/CAISO-Forward-Prices.csv. Skipping.\n",
      "Dropped rows with missing values and saved: ../data/CAISO-Forward-Prices.csv\n",
      "Fixed Gen column and saved: ../data/CAISO-Historical-Data.csv\n",
      "Dropped rows with missing values and saved: ../data/CAISO-Historical-Data.csv\n",
      "'Gen' column not found in ../data/MISO-Forward-Prices.csv. Skipping.\n",
      "Dropped rows with missing values and saved: ../data/MISO-Forward-Prices.csv\n",
      "Fixed Gen column and saved: ../data/MISO-Historical-Data.csv\n",
      "Dropped rows with missing values and saved: ../data/MISO-Historical-Data.csv\n",
      "'Gen' column not found in ../data/ERCOT-Forward-Prices.csv. Skipping.\n",
      "Dropped rows with missing values and saved: ../data/ERCOT-Forward-Prices.csv\n",
      "Fixed Gen column and saved: ../data/ERCOT-Historical-Data.csv\n",
      "Dropped rows with missing values and saved: ../data/ERCOT-Historical-Data.csv\n"
     ]
    }
   ],
   "source": [
    "data_dir = \"../data\"\n",
    "# traverse all csv files in data directory and apply fixes\n",
    "for filename in os.listdir(data_dir):\n",
    "    if filename.endswith(\".csv\"):\n",
    "        csv_path = os.path.join(data_dir, filename)\n",
    "        fix_gen_column(csv_path)\n",
    "        drop_missing_values(csv_path)"
   ]
  },
  {
   "cell_type": "code",
   "execution_count": null,
   "id": "d41faccd",
   "metadata": {},
   "outputs": [],
   "source": []
  }
 ],
 "metadata": {
  "kernelspec": {
   "display_name": "hackathon",
   "language": "python",
   "name": "python3"
  },
  "language_info": {
   "codemirror_mode": {
    "name": "ipython",
    "version": 3
   },
   "file_extension": ".py",
   "mimetype": "text/x-python",
   "name": "python",
   "nbconvert_exporter": "python",
   "pygments_lexer": "ipython3",
   "version": "3.12.12"
  }
 },
 "nbformat": 4,
 "nbformat_minor": 5
}
