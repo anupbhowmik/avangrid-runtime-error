{
 "cells": [
  {
   "cell_type": "markdown",
   "id": "82ec0cf3-c880-4f8f-a246-804b432eaa2b",
   "metadata": {},
   "source": [
    "# Monte Carlo"
   ]
  },
  {
   "cell_type": "markdown",
   "id": "919d5994-7f36-462c-9080-6c545bb7e434",
   "metadata": {},
   "source": [
    "#### For each simulation path:\n",
    "\n",
    "1. Merchant Revenue = Σ[Generationₜ × Priceₜ] \n",
    "2. Implied $/MWh = Merchant Revenue / Total Generation"
   ]
  },
  {
   "cell_type": "code",
   "execution_count": null,
   "id": "6edfe73b-2dbd-41b9-b394-ce786beaa4c6",
   "metadata": {},
   "outputs": [],
   "source": [
    "# 1. Fit ARIMA/GARCH models to prices\n",
    "price_model = ARIMA(historical_prices).fit()\n",
    "residuals = price_model.resid\n",
    "\n",
    "# 2. Bootstrap residuals for paths\n",
    "paths = []\n",
    "for _ in range(10000):\n",
    "    random_residuals = np.random.choice(residuals, size=term_length, replace=True)\n",
    "    simulated_prices = price_model.predict() + random_residuals\n",
    "    paths.append(simulated_prices)"
   ]
  },
  {
   "cell_type": "code",
   "execution_count": null,
   "id": "fcfc151c-21e5-4d81-a194-29ab67dcd9b8",
   "metadata": {},
   "outputs": [],
   "source": [
    "# 1. Fit distributions to historical prices\n",
    "rt_busbar_dist = stats.lognorm.fit(historical_rt_busbar)\n",
    "da_busbar_dist = stats.lognorm.fit(historical_da_busbar)\n",
    "\n",
    "# 2. Generate correlated samples\n",
    "correlation_matrix = calculate_correlation_matrix()\n",
    "multivariate_normal = stats.multivariate_normal(cov=correlation_matrix)"
   ]
  },
  {
   "cell_type": "code",
   "execution_count": null,
   "id": "1e966ddd-0743-48cc-ab18-5fa86501e5da",
   "metadata": {},
   "outputs": [],
   "source": [
    "def calculate_p75_fixed_price(simulated_paths, generation_paths):\n",
    "    merchant_revenues = []\n",
    "    \n",
    "    for path in range(num_simulations):\n",
    "        total_revenue = sum(simulated_paths[path][t] * generation_paths[path][t] \n",
    "                          for t in range(term_length))\n",
    "        total_generation = sum(generation_paths[path])\n",
    "        implied_price = total_revenue / total_generation\n",
    "        merchant_revenues.append(implied_price)\n",
    "    \n",
    "    p75_price = np.percentile(merchant_revenues, 25)  # 75% beat merchant\n",
    "    return p75_price\n",
    "\n",
    "# Calculate for each product\n",
    "p75_rt_busbar = calculate_p75_fixed_price(rt_busbar_paths, generation_paths)\n",
    "p75_rt_hub = calculate_p75_fixed_price(rt_hub_paths, generation_paths)\n",
    "p75_da_busbar = calculate_p75_fixed_price(da_busbar_paths, generation_paths) \n",
    "p75_da_hub = calculate_p75_fixed_price(da_hub_paths, generation_paths)"
   ]
  },
  {
   "cell_type": "code",
   "execution_count": null,
   "id": "8654ba88-ab0e-4e73-b41d-7be0f71dc58f",
   "metadata": {},
   "outputs": [],
   "source": []
  }
 ],
 "metadata": {
  "kernelspec": {
   "display_name": "Python 3 (ipykernel)",
   "language": "python",
   "name": "python3"
  },
  "language_info": {
   "codemirror_mode": {
    "name": "ipython",
    "version": 3
   },
   "file_extension": ".py",
   "mimetype": "text/x-python",
   "name": "python",
   "nbconvert_exporter": "python",
   "pygments_lexer": "ipython3",
   "version": "3.13.5"
  }
 },
 "nbformat": 4,
 "nbformat_minor": 5
}
