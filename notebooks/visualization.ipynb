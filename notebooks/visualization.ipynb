{
 "cells": [
  {
   "cell_type": "code",
   "execution_count": 1,
   "id": "d2a4910f",
   "metadata": {
    "vscode": {
     "languageId": "plaintext"
    }
   },
   "outputs": [],
   "source": [
    "import pandas as pd\n",
    "import matplotlib.pyplot as plt\n",
    "import numpy as np"
   ]
  },
  {
   "cell_type": "code",
   "execution_count": 10,
   "id": "ce3b2fdc-6523-4b63-87eb-d353e8126e4d",
   "metadata": {},
   "outputs": [
    {
     "name": "stdout",
     "output_type": "stream",
     "text": [
      "Month        object\n",
      "Peak        float64\n",
      "Off Peak    float64\n",
      "dtype: object\n",
      "    Month   Peak  Off Peak\n",
      "0  Jan-26  66.49     74.33\n",
      "1  Feb-26  51.40     65.81\n",
      "2  Mar-26  19.21     37.62\n",
      "3  Apr-26  10.97     37.87\n",
      "4  May-26   7.81     32.31\n"
     ]
    }
   ],
   "source": [
    "data = pd.read_csv(\"../data/CAISO-Forward-Prices.csv\")\n",
    "data['Peak'] = data['Peak'].astype(str).str.replace(r'[\\$,]', '', regex=True)\n",
    "data['Peak'] = pd.to_numeric(data['Peak'], errors='coerce')\n",
    "\n",
    "data['Off Peak'] = data['Off Peak'].astype(str).str.replace(r'[\\$,]', '', regex=True)\n",
    "data['Off Peak'] = pd.to_numeric(data['Off Peak'], errors='coerce')\n",
    "print(data.dtypes)\n",
    "print(data.head())"
   ]
  },
  {
   "cell_type": "code",
   "execution_count": null,
   "id": "da73a5e6-9fb0-43e5-8711-520e13ebb97a",
   "metadata": {},
   "outputs": [],
   "source": []
  }
 ],
 "metadata": {
  "kernelspec": {
   "display_name": "Python 3 (ipykernel)",
   "language": "python",
   "name": "python3"
  },
  "language_info": {
   "codemirror_mode": {
    "name": "ipython",
    "version": 3
   },
   "file_extension": ".py",
   "mimetype": "text/x-python",
   "name": "python",
   "nbconvert_exporter": "python",
   "pygments_lexer": "ipython3",
   "version": "3.13.5"
  }
 },
 "nbformat": 4,
 "nbformat_minor": 5
}
