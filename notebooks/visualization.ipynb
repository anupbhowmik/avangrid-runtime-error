{
 "cells": [
  {
   "cell_type": "code",
   "execution_count": 1,
   "id": "d2a4910f",
   "metadata": {
    "vscode": {
     "languageId": "plaintext"
    }
   },
   "outputs": [],
   "source": [
    "import pandas as pd\n",
    "import matplotlib.pyplot as plt\n",
    "import numpy as np"
   ]
  },
  {
   "cell_type": "code",
   "execution_count": 10,
   "id": "ce3b2fdc-6523-4b63-87eb-d353e8126e4d",
   "metadata": {},
   "outputs": [
    {
     "name": "stdout",
     "output_type": "stream",
     "text": [
      "Month        object\n",
      "Peak        float64\n",
      "Off Peak    float64\n",
      "dtype: object\n",
      "    Month   Peak  Off Peak\n",
      "0  Jan-26  66.49     74.33\n",
      "1  Feb-26  51.40     65.81\n",
      "2  Mar-26  19.21     37.62\n",
      "3  Apr-26  10.97     37.87\n",
      "4  May-26   7.81     32.31\n"
     ]
    }
   ],
   "source": [
    "data = pd.read_csv(\"../data/CAISO-Forward-Prices.csv\")\n",
    "data['Peak'] = data['Peak'].astype(str).str.replace(r'[\\$,]', '', regex=True)\n",
    "data['Peak'] = pd.to_numeric(data['Peak'], errors='coerce')\n",
    "\n",
    "data['Off Peak'] = data['Off Peak'].astype(str).str.replace(r'[\\$,]', '', regex=True)\n",
    "data['Off Peak'] = pd.to_numeric(data['Off Peak'], errors='coerce')\n",
    "print(data.dtypes)\n",
    "print(data.head())"
   ]
  },
  {
   "cell_type": "code",
   "execution_count": 45,
   "id": "da73a5e6-9fb0-43e5-8711-520e13ebb97a",
   "metadata": {},
   "outputs": [],
   "source": [
    "def preprocessCSV(data_hist):\n",
    "    data_hist['RT Busbar'] = data_hist['RT Busbar'].astype(str).str.replace(r'[\\(,]', '-', regex=True)\n",
    "    data_hist['RT Busbar'] = data_hist['RT Busbar'].astype(str).str.replace(r'[\\),]', '', regex=True)\n",
    "    \n",
    "    data_hist['RT Busbar'] = data_hist['RT Busbar'].astype(str).str.replace(r'[\\$,]', '', regex=True)\n",
    "    data_hist['RT Busbar'] = pd.to_numeric(data_hist['RT Busbar'], errors='coerce')\n",
    "    \n",
    "    data_hist['RT Hub'] = data_hist['RT Hub'].astype(str).str.replace(r'[\\$,]', '', regex=True)\n",
    "    data_hist['RT Hub'] = pd.to_numeric(data_hist['RT Hub'], errors='coerce')\n",
    "    \n",
    "    \n",
    "    data_hist['DA Busbar'] = data_hist['DA Busbar'].astype(str).str.replace(r'[\\(,]', '-', regex=True)\n",
    "    data_hist['DA Busbar'] = data_hist['DA Busbar'].astype(str).str.replace(r'[\\),]', '', regex=True)\n",
    "    \n",
    "    data_hist['DA Busbar'] = data_hist['DA Busbar'].astype(str).str.replace(r'[\\$,]', '', regex=True)\n",
    "    data_hist['DA Busbar'] = pd.to_numeric(data_hist['DA Busbar'], errors='coerce')\n",
    "    \n",
    "    data_hist['DA Hub'] = data_hist['DA Hub'].astype(str).str.replace(r'[\\$,]', '', regex=True)\n",
    "    data_hist['DA Hub'] = pd.to_numeric(data_hist['DA Hub'], errors='coerce')\n",
    "    \n",
    "    data_hist['P/OP'] = data_hist['P/OP'].astype(str).str.replace('OP' , '0', regex=True)\n",
    "    data_hist['P/OP'] = data_hist['P/OP'].astype(str).str.replace('P', '1', regex=True)\n",
    "    data_hist['P/OP'] = pd.to_numeric(data_hist['P/OP'], errors='coerce')\n"
   ]
  },
  {
   "cell_type": "code",
   "execution_count": 46,
   "id": "3d778f65-3339-48c0-b910-badff30f42a8",
   "metadata": {},
   "outputs": [],
   "source": [
    "def preprocessCSV_ForwardPoint(data):\n",
    "    data['Peak'] = data['Peak'].astype(str).str.replace(r'[\\$,]', '', regex=True)\n",
    "    data['Peak'] = pd.to_numeric(data['Peak'], errors='coerce')\n",
    "    \n",
    "    data['Off Peak'] = data['Off Peak'].astype(str).str.replace(r'[\\$,]', '', regex=True)\n",
    "    data['Off Peak'] = pd.to_numeric(data['Off Peak'], errors='coerce')"
   ]
  },
  {
   "cell_type": "code",
   "execution_count": 47,
   "id": "cfd7a626-63c9-4b13-a233-627d8895d289",
   "metadata": {},
   "outputs": [],
   "source": [
    "data_hist_caiso = pd.read_csv(\"../data/CAISO-Historical-Data.csv\")\n",
    "data_hist_ercot = pd.read_csv(\"../data/ERCOT-Historical-Data.csv\")\n",
    "data_hist_miso = pd.read_csv(\"../data/MISO-Historical-Data.csv\")\n",
    "\n",
    "preprocessCSV(data_hist_caiso)\n",
    "preprocessCSV(data_hist_ercot)\n",
    "preprocessCSV(data_hist_miso)"
   ]
  },
  {
   "cell_type": "code",
   "execution_count": 49,
   "id": "48df1f57-a2e1-49cb-b59e-69941ac832c2",
   "metadata": {},
   "outputs": [],
   "source": [
    "data_fp_caiso = pd.read_csv(\"../data/CAISO-Forward-Prices.csv\")\n",
    "data_fp_ercot = pd.read_csv(\"../data/ERCOT-Forward-Prices.csv\")\n",
    "data_fp_miso = pd.read_csv(\"../data/MISO-Forward-Prices.csv\")\n",
    "\n",
    "preprocessCSV_ForwardPoint(data_fp_caiso)\n",
    "preprocessCSV_ForwardPoint(data_fp_ercot)\n",
    "preprocessCSV_ForwardPoint(data_fp_miso)"
   ]
  },
  {
   "cell_type": "code",
   "execution_count": 51,
   "id": "f5112571-402c-4834-997a-6366c8935e7b",
   "metadata": {},
   "outputs": [
    {
     "data": {
      "text/html": [
       "<div>\n",
       "<style scoped>\n",
       "    .dataframe tbody tr th:only-of-type {\n",
       "        vertical-align: middle;\n",
       "    }\n",
       "\n",
       "    .dataframe tbody tr th {\n",
       "        vertical-align: top;\n",
       "    }\n",
       "\n",
       "    .dataframe thead th {\n",
       "        text-align: right;\n",
       "    }\n",
       "</style>\n",
       "<table border=\"1\" class=\"dataframe\">\n",
       "  <thead>\n",
       "    <tr style=\"text-align: right;\">\n",
       "      <th></th>\n",
       "      <th>Month</th>\n",
       "      <th>Peak</th>\n",
       "      <th>Off Peak</th>\n",
       "    </tr>\n",
       "  </thead>\n",
       "  <tbody>\n",
       "    <tr>\n",
       "      <th>0</th>\n",
       "      <td>Jan-26</td>\n",
       "      <td>66.49</td>\n",
       "      <td>74.33</td>\n",
       "    </tr>\n",
       "    <tr>\n",
       "      <th>1</th>\n",
       "      <td>Feb-26</td>\n",
       "      <td>51.40</td>\n",
       "      <td>65.81</td>\n",
       "    </tr>\n",
       "    <tr>\n",
       "      <th>2</th>\n",
       "      <td>Mar-26</td>\n",
       "      <td>19.21</td>\n",
       "      <td>37.62</td>\n",
       "    </tr>\n",
       "    <tr>\n",
       "      <th>3</th>\n",
       "      <td>Apr-26</td>\n",
       "      <td>10.97</td>\n",
       "      <td>37.87</td>\n",
       "    </tr>\n",
       "    <tr>\n",
       "      <th>4</th>\n",
       "      <td>May-26</td>\n",
       "      <td>7.81</td>\n",
       "      <td>32.31</td>\n",
       "    </tr>\n",
       "  </tbody>\n",
       "</table>\n",
       "</div>"
      ],
      "text/plain": [
       "    Month   Peak  Off Peak\n",
       "0  Jan-26  66.49     74.33\n",
       "1  Feb-26  51.40     65.81\n",
       "2  Mar-26  19.21     37.62\n",
       "3  Apr-26  10.97     37.87\n",
       "4  May-26   7.81     32.31"
      ]
     },
     "execution_count": 51,
     "metadata": {},
     "output_type": "execute_result"
    }
   ],
   "source": [
    "data_fp_caiso.head()"
   ]
  },
  {
   "cell_type": "code",
   "execution_count": 53,
   "id": "4929be8b-6a95-46a9-8bc7-f0d347bc1986",
   "metadata": {},
   "outputs": [
    {
     "data": {
      "text/html": [
       "<div>\n",
       "<style scoped>\n",
       "    .dataframe tbody tr th:only-of-type {\n",
       "        vertical-align: middle;\n",
       "    }\n",
       "\n",
       "    .dataframe tbody tr th {\n",
       "        vertical-align: top;\n",
       "    }\n",
       "\n",
       "    .dataframe thead th {\n",
       "        text-align: right;\n",
       "    }\n",
       "</style>\n",
       "<table border=\"1\" class=\"dataframe\">\n",
       "  <thead>\n",
       "    <tr style=\"text-align: right;\">\n",
       "      <th></th>\n",
       "      <th>Date</th>\n",
       "      <th>HE</th>\n",
       "      <th>P/OP</th>\n",
       "      <th>Gen</th>\n",
       "      <th>RT Busbar</th>\n",
       "      <th>RT Hub</th>\n",
       "      <th>DA Busbar</th>\n",
       "      <th>DA Hub</th>\n",
       "    </tr>\n",
       "  </thead>\n",
       "  <tbody>\n",
       "    <tr>\n",
       "      <th>0</th>\n",
       "      <td>1-Jan-22</td>\n",
       "      <td>1</td>\n",
       "      <td>0</td>\n",
       "      <td>0.0</td>\n",
       "      <td>60.36</td>\n",
       "      <td>60.00</td>\n",
       "      <td>58.03</td>\n",
       "      <td>57.68</td>\n",
       "    </tr>\n",
       "    <tr>\n",
       "      <th>1</th>\n",
       "      <td>1-Jan-22</td>\n",
       "      <td>2</td>\n",
       "      <td>0</td>\n",
       "      <td>0.0</td>\n",
       "      <td>58.14</td>\n",
       "      <td>58.14</td>\n",
       "      <td>60.56</td>\n",
       "      <td>60.24</td>\n",
       "    </tr>\n",
       "    <tr>\n",
       "      <th>2</th>\n",
       "      <td>1-Jan-22</td>\n",
       "      <td>3</td>\n",
       "      <td>0</td>\n",
       "      <td>0.0</td>\n",
       "      <td>60.43</td>\n",
       "      <td>59.96</td>\n",
       "      <td>57.50</td>\n",
       "      <td>57.40</td>\n",
       "    </tr>\n",
       "    <tr>\n",
       "      <th>3</th>\n",
       "      <td>1-Jan-22</td>\n",
       "      <td>4</td>\n",
       "      <td>0</td>\n",
       "      <td>0.0</td>\n",
       "      <td>66.69</td>\n",
       "      <td>65.84</td>\n",
       "      <td>58.38</td>\n",
       "      <td>58.29</td>\n",
       "    </tr>\n",
       "    <tr>\n",
       "      <th>4</th>\n",
       "      <td>1-Jan-22</td>\n",
       "      <td>5</td>\n",
       "      <td>0</td>\n",
       "      <td>0.0</td>\n",
       "      <td>66.09</td>\n",
       "      <td>65.15</td>\n",
       "      <td>60.47</td>\n",
       "      <td>60.30</td>\n",
       "    </tr>\n",
       "  </tbody>\n",
       "</table>\n",
       "</div>"
      ],
      "text/plain": [
       "       Date  HE  P/OP  Gen  RT Busbar  RT Hub  DA Busbar  DA Hub\n",
       "0  1-Jan-22   1     0  0.0      60.36   60.00      58.03   57.68\n",
       "1  1-Jan-22   2     0  0.0      58.14   58.14      60.56   60.24\n",
       "2  1-Jan-22   3     0  0.0      60.43   59.96      57.50   57.40\n",
       "3  1-Jan-22   4     0  0.0      66.69   65.84      58.38   58.29\n",
       "4  1-Jan-22   5     0  0.0      66.09   65.15      60.47   60.30"
      ]
     },
     "execution_count": 53,
     "metadata": {},
     "output_type": "execute_result"
    }
   ],
   "source": [
    "data_hist_caiso.head()"
   ]
  },
  {
   "cell_type": "code",
   "execution_count": null,
   "id": "678730ee-c997-4627-93c7-786550c3c2ef",
   "metadata": {},
   "outputs": [],
   "source": []
  }
 ],
 "metadata": {
  "kernelspec": {
   "display_name": "Python 3 (ipykernel)",
   "language": "python",
   "name": "python3"
  },
  "language_info": {
   "codemirror_mode": {
    "name": "ipython",
    "version": 3
   },
   "file_extension": ".py",
   "mimetype": "text/x-python",
   "name": "python",
   "nbconvert_exporter": "python",
   "pygments_lexer": "ipython3",
   "version": "3.13.5"
  }
 },
 "nbformat": 4,
 "nbformat_minor": 5
}
