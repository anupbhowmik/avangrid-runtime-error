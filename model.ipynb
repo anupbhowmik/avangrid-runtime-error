{
 "cells": [
  {
   "cell_type": "markdown",
   "id": "72fb9e5a",
   "metadata": {},
   "source": [
    "## Dataset preprocessing\n",
    "This section outlines the steps taken to preprocess the dataset before using any model. Proper preprocessing is crucial for ensuring that the data is clean, consistent, and suitable for analysis.\n",
    "The dataset seems pretty clean, but we performed the following preprocessing steps to ensure data quality:\n",
    "\n",
    "1. **Handling Missing Values**: We checked for any missing values in the dataset. If any were found, we filled them using mean."
   ]
  },
  {
   "cell_type": "code",
   "execution_count": null,
   "id": "8cfd3a6f",
   "metadata": {},
   "outputs": [],
   "source": []
  }
 ],
 "metadata": {
  "kernelspec": {
   "display_name": "hackathon",
   "language": "python",
   "name": "python3"
  },
  "language_info": {
   "name": "python",
   "version": "3.12.12"
  }
 },
 "nbformat": 4,
 "nbformat_minor": 5
}
